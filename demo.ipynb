{
 "cells": [
  {
   "cell_type": "code",
   "execution_count": 1,
   "id": "b22fd2d6-30a2-4fc5-a73c-b850bd13e144",
   "metadata": {},
   "outputs": [],
   "source": [
    "import pandas as pd\n",
    "\n",
    "import numpy as np\n",
    "\n",
    "import matplotlib.pyplot as plt\n",
    "\n",
    "import seaborn as sns"
   ]
  },
  {
   "cell_type": "code",
   "execution_count": 2,
   "id": "1789c009-2251-424f-b61f-d53d96ae03ab",
   "metadata": {},
   "outputs": [],
   "source": [
    "import matplotlib.pyplot as plt"
   ]
  },
  {
   "cell_type": "code",
   "execution_count": 4,
   "id": "9018cbf2-73a8-4755-a4a5-1eb53c66ac7e",
   "metadata": {},
   "outputs": [],
   "source": [
    "from sklearn.linear_model import LinearRegression"
   ]
  },
  {
   "cell_type": "markdown",
   "id": "8d63662e-3b65-4042-b044-951551e3bf8f",
   "metadata": {},
   "source": [
    "<h1> heading </h1>"
   ]
  },
  {
   "cell_type": "markdown",
   "id": "5a070402-26dd-4f83-b8fb-04599e8c0a35",
   "metadata": {},
   "source": [
    "<h2> heading </h2>"
   ]
  },
  {
   "cell_type": "markdown",
   "id": "f63125da-8fc6-4113-8f92-7af5135ade07",
   "metadata": {},
   "source": [
    "<h3> heading </h3>"
   ]
  },
  {
   "cell_type": "markdown",
   "id": "21b25dcd-8ecb-4662-b991-49a39d699e5a",
   "metadata": {},
   "source": [
    "*italics*"
   ]
  },
  {
   "cell_type": "markdown",
   "id": "a10a7d14-39b2-4866-b1fd-7f0ff080784d",
   "metadata": {},
   "source": [
    "**BOLD**"
   ]
  },
  {
   "cell_type": "markdown",
   "id": "0e8e1948-2f5d-43f0-9c3c-f44ad2bf3efc",
   "metadata": {},
   "source": [
    "\\begin{bmatrix}a & b \\\\c & d\\end{bmatrix}\n"
   ]
  },
  {
   "cell_type": "markdown",
   "id": "04b737e8-8d21-4a37-8c97-f089680bceb7",
   "metadata": {},
   "source": [
    "$$\n",
    "e^x\n",
    "$$\n",
    "\n",
    "$$\n",
    "e^{a + b}\n",
    "$$\n"
   ]
  },
  {
   "cell_type": "code",
   "execution_count": null,
   "id": "a204738a-4e96-4212-8c2f-c6a5cabb91d8",
   "metadata": {},
   "outputs": [],
   "source": []
  }
 ],
 "metadata": {
  "kernelspec": {
   "display_name": "Python 3 (ipykernel)",
   "language": "python",
   "name": "python3"
  },
  "language_info": {
   "codemirror_mode": {
    "name": "ipython",
    "version": 3
   },
   "file_extension": ".py",
   "mimetype": "text/x-python",
   "name": "python",
   "nbconvert_exporter": "python",
   "pygments_lexer": "ipython3",
   "version": "3.12.7"
  }
 },
 "nbformat": 4,
 "nbformat_minor": 5
}
