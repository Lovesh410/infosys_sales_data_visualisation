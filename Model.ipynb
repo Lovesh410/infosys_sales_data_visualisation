{
 "cells": [
  {
   "cell_type": "code",
   "execution_count": 1,
   "id": "4895346c",
   "metadata": {},
   "outputs": [],
   "source": [
    "import pandas as pd\n",
    "import numpy as np\n",
    "import matplotlib.pyplot as plt\n",
    "import seaborn as sns\n",
    "import os"
   ]
  },
  {
   "cell_type": "code",
   "execution_count": 2,
   "id": "648b15e6",
   "metadata": {},
   "outputs": [],
   "source": [
    "df = pd.read_csv(\"cleaned_data.csv\", low_memory=False) \n"
   ]
  },
  {
   "cell_type": "code",
   "execution_count": 3,
   "id": "660039e5",
   "metadata": {},
   "outputs": [
    {
     "name": "stdout",
     "output_type": "stream",
     "text": [
      "<class 'pandas.core.frame.DataFrame'>\n",
      "RangeIndex: 20000 entries, 0 to 19999\n",
      "Data columns (total 46 columns):\n",
      " #   Column                            Non-Null Count  Dtype  \n",
      "---  ------                            --------------  -----  \n",
      " 0   Seller_NTN                        20000 non-null  object \n",
      " 1   Seller_Name                       20000 non-null  object \n",
      " 2   Seller_S.T.Reg.No                 20000 non-null  object \n",
      " 3   Seller_Address                    20000 non-null  object \n",
      " 4   Customer_Receipt_NO               20000 non-null  int64  \n",
      " 5   Customer_NTN                      20000 non-null  object \n",
      " 6   Customer_NAME                     20000 non-null  object \n",
      " 7   Customer_Tax_ID                   20000 non-null  object \n",
      " 8   Customer_Address                  20000 non-null  object \n",
      " 9   Customer_Business                 20000 non-null  object \n",
      " 10  Product 1                         20000 non-null  object \n",
      " 11  Product 2                         20000 non-null  object \n",
      " 12  Product 3                         20000 non-null  object \n",
      " 13  Product 4                         20000 non-null  object \n",
      " 14  Date                              20000 non-null  object \n",
      " 15  Quantity_Product_1                20000 non-null  int64  \n",
      " 16  Quantity_Product_2                20000 non-null  int64  \n",
      " 17  Quantity_Product_3                20000 non-null  int64  \n",
      " 18  Quantity_Product_4                20000 non-null  int64  \n",
      " 19  Rate_Product_1                    20000 non-null  int64  \n",
      " 20  Rate_Product_2                    20000 non-null  int64  \n",
      " 21  Rate_Product_3                    20000 non-null  int64  \n",
      " 22  Rate_Product_4                    20000 non-null  int64  \n",
      " 23  Tax_Product_1                     20000 non-null  float64\n",
      " 24  Tax_Product_2                     20000 non-null  float64\n",
      " 25  Tax_Product_3                     20000 non-null  float64\n",
      " 26  Tax_Product_4                     20000 non-null  float64\n",
      " 27  Product_1_Price_with_Tax          20000 non-null  int64  \n",
      " 28  Product_2_Price_with_Tax          20000 non-null  int64  \n",
      " 29  Product_3_Price_with_Tax          20000 non-null  int64  \n",
      " 30  Product_4_Price_with_Tax          20000 non-null  int64  \n",
      " 31  Amount Excluding Taxes_Product_1  20000 non-null  int64  \n",
      " 32  Sales Tax @ 18%_Product_1         20000 non-null  float64\n",
      " 33  Amount Including Taxes_Product_1  20000 non-null  float64\n",
      " 34  Amount Excluding Taxes_Product_2  20000 non-null  int64  \n",
      " 35  Sales Tax @ 18%_Product_2         20000 non-null  float64\n",
      " 36  Amount Including Taxes_Product_2  20000 non-null  float64\n",
      " 37  Amount Excluding Taxes_Product_3  20000 non-null  int64  \n",
      " 38  Sales Tax @ 18%_Product_3         20000 non-null  float64\n",
      " 39  Amount Including Taxes_Product_3  20000 non-null  float64\n",
      " 40  Amount Excluding Taxes_Product_4  20000 non-null  int64  \n",
      " 41  Sales Tax @ 18%_Product_4         20000 non-null  float64\n",
      " 42  Amount Including Taxes_Product_4  20000 non-null  float64\n",
      " 43  Total Amount Excluding Taxes      20000 non-null  int64  \n",
      " 44  Total Sales Tax @ 18%             20000 non-null  float64\n",
      " 45  Total Amount Including Taxes      20000 non-null  float64\n",
      "dtypes: float64(14), int64(18), object(14)\n",
      "memory usage: 7.0+ MB\n"
     ]
    }
   ],
   "source": [
    "df.info()"
   ]
  },
  {
   "cell_type": "code",
   "execution_count": 4,
   "id": "d32de54e",
   "metadata": {},
   "outputs": [
    {
     "name": "stdout",
     "output_type": "stream",
     "text": [
      "<class 'pandas.core.frame.DataFrame'>\n",
      "RangeIndex: 20000 entries, 0 to 19999\n",
      "Data columns (total 18 columns):\n",
      " #   Column                        Non-Null Count  Dtype  \n",
      "---  ------                        --------------  -----  \n",
      " 0   Seller_NTN                    20000 non-null  object \n",
      " 1   Seller_Name                   20000 non-null  object \n",
      " 2   Seller_S.T.Reg.No             20000 non-null  object \n",
      " 3   Seller_Address                20000 non-null  object \n",
      " 4   Customer_Receipt_NO           20000 non-null  int64  \n",
      " 5   Customer_NTN                  20000 non-null  object \n",
      " 6   Customer_NAME                 20000 non-null  object \n",
      " 7   Customer_Tax_ID               20000 non-null  object \n",
      " 8   Customer_Address              20000 non-null  object \n",
      " 9   Customer_Business             20000 non-null  object \n",
      " 10  Date                          20000 non-null  object \n",
      " 11  Total Amount Excluding Taxes  20000 non-null  int64  \n",
      " 12  Total Sales Tax @ 18%         20000 non-null  float64\n",
      " 13  Total Amount Including Taxes  20000 non-null  float64\n",
      " 14  All_Products                  20000 non-null  object \n",
      " 15  Total_Quantity                20000 non-null  int64  \n",
      " 16  Total_Price                   20000 non-null  int64  \n",
      " 17  Total_Tax                     20000 non-null  float64\n",
      "dtypes: float64(3), int64(4), object(11)\n",
      "memory usage: 2.7+ MB\n"
     ]
    },
    {
     "data": {
      "text/plain": [
       "(None,\n",
       "     Seller_NTN             Seller_Name        Seller_S.T.Reg.No  \\\n",
       " 0  3.65029E+12  MUHAMMAD BEHZAD ARSHAD  10000-10046-8761-413-23   \n",
       " 1   3.7405E+12       MISS FARHAT MALIK  10000-10046-8761-413-23   \n",
       " 2  3.73012E+12      MIRZA SHAHBAZ BAIG  10000-10046-8761-413-23   \n",
       " 3  3.65029E+12   MUHAMMAD BILAL ARSHAD  10000-10046-8761-413-23   \n",
       " 4  3.65017E+12        BABAR HABIB NOON    10000-77-18730-413-23   \n",
       " \n",
       "          Seller_Address  Customer_Receipt_NO Customer_NTN  \\\n",
       " 0  040-Tando Allah Main              1122916    0000092-2   \n",
       " 1  118. Gulshan-E-Iqbal              1181647    0000094-9   \n",
       " 2  131-West Wood Colony              1196218    0000098-1   \n",
       " 3  145-C Sattelite Town               908244    0000131-7   \n",
       " 4  14-Km Ferozpure Road               902983    0000146-5   \n",
       " \n",
       "             Customer_NAME    Customer_Tax_ID      Customer_Address  \\\n",
       " 0             ABDUL MANAN  32-77-8761-413-23  145-C Sattelite Town   \n",
       " 1         MUNAWAR SULTANA  33-77-8761-413-23  Wala Colony House 34   \n",
       " 2           EHSAN SHAFQAT  34-77-8761-413-23  Apt-906 Rehman Tower   \n",
       " 3  MUHAMMAD ANEES QURESHI  35-77-8761-413-23  37-C P. O Box. 20021   \n",
       " 4          MUHAMMAD AJMAL  36-77-8761-413-23  205 Muhammadia Plaza   \n",
       " \n",
       "                Customer_Business        Date  Total Amount Excluding Taxes  \\\n",
       " 0                1 CARAT FASHION  2020-05-12                         13195   \n",
       " 1              1 DOLLAR 2 DOLLAR  2018-02-24                         10826   \n",
       " 2  1 DOLLAR 2 DOLLAR,Ali Traders  2022-05-04                         10958   \n",
       " 3                  1 DOLLAR SHOP  2021-01-12                          7377   \n",
       " 4          1 Dollar Shoping Mall  2023-08-16                         20586   \n",
       " \n",
       "    Total Sales Tax @ 18%  Total Amount Including Taxes  \\\n",
       " 0                2375.10                      15570.10   \n",
       " 1                1948.68                      12774.68   \n",
       " 2                1972.44                      12930.44   \n",
       " 3                1327.86                       8704.86   \n",
       " 4                3705.48                      24291.48   \n",
       " \n",
       "                                         All_Products  Total_Quantity  \\\n",
       " 0  Glitter Threads, Silk Stitches, Sparkle Thread...             199   \n",
       " 1  Budget Binders, Affordably Printed, Quick Copi...             198   \n",
       " 2  Affordably Bright, Value Binds, Pixel Prints, ...             186   \n",
       " 3  Quick Fix, Value Pack, Budget Staples, Dollar ...             142   \n",
       " 4    DealsWrap, BudgetBox, PennyPicks, QuickDealsHub             238   \n",
       " \n",
       "    Total_Price  Total_Tax  \n",
       " 0        13195    2375.10  \n",
       " 1        10826    1948.68  \n",
       " 2        10958    1972.44  \n",
       " 3         7377    1327.86  \n",
       " 4        20586    3705.48  )"
      ]
     },
     "execution_count": 4,
     "metadata": {},
     "output_type": "execute_result"
    }
   ],
   "source": [
    "# Merge product columns into one\n",
    "df[\"All_Products\"] = df[[\"Product 1\", \"Product 2\", \"Product 3\", \"Product 4\"]].apply(lambda x: ', '.join(x.dropna().astype(str)), axis=1)\n",
    "\n",
    "# Sum up quantities, prices, and tax amounts into single attributes\n",
    "df[\"Total_Quantity\"] = df[[\"Quantity_Product_1\", \"Quantity_Product_2\", \"Quantity_Product_3\", \"Quantity_Product_4\"]].sum(axis=1)\n",
    "df[\"Total_Price\"] = df[[\"Amount Excluding Taxes_Product_1\", \"Amount Excluding Taxes_Product_2\",\n",
    "                        \"Amount Excluding Taxes_Product_3\", \"Amount Excluding Taxes_Product_4\"]].sum(axis=1)\n",
    "df[\"Total_Tax\"] = df[[\"Sales Tax @ 18%_Product_1\", \"Sales Tax @ 18%_Product_2\",\n",
    "                      \"Sales Tax @ 18%_Product_3\", \"Sales Tax @ 18%_Product_4\"]].sum(axis=1)\n",
    "\n",
    "# Drop redundant columns\n",
    "columns_to_drop = [col for col in df.columns if \"Product\" in col and col not in [\"All_Products\", \"Total_Quantity\", \"Total_Price\", \"Total_Tax\"]]\n",
    "df.drop(columns=columns_to_drop, inplace=True)\n",
    "\n",
    "# Display updated dataset structure\n",
    "df.info(), df.head()"
   ]
  },
  {
   "cell_type": "code",
   "execution_count": 5,
   "id": "2e634987",
   "metadata": {},
   "outputs": [
    {
     "name": "stdout",
     "output_type": "stream",
     "text": [
      "<class 'pandas.core.frame.DataFrame'>\n",
      "RangeIndex: 20000 entries, 0 to 19999\n",
      "Data columns (total 14 columns):\n",
      " #   Column                        Non-Null Count  Dtype  \n",
      "---  ------                        --------------  -----  \n",
      " 0   Seller_NTN                    20000 non-null  object \n",
      " 1   Seller_S.T.Reg.No             20000 non-null  object \n",
      " 2   Customer_Receipt_NO           20000 non-null  int64  \n",
      " 3   Customer_NTN                  20000 non-null  object \n",
      " 4   Customer_Tax_ID               20000 non-null  object \n",
      " 5   Customer_Business             20000 non-null  object \n",
      " 6   Date                          20000 non-null  object \n",
      " 7   Total Amount Excluding Taxes  20000 non-null  int64  \n",
      " 8   Total Sales Tax @ 18%         20000 non-null  float64\n",
      " 9   Total Amount Including Taxes  20000 non-null  float64\n",
      " 10  All_Products                  20000 non-null  object \n",
      " 11  Total_Quantity                20000 non-null  int64  \n",
      " 12  Total_Price                   20000 non-null  int64  \n",
      " 13  Total_Tax                     20000 non-null  float64\n",
      "dtypes: float64(3), int64(4), object(7)\n",
      "memory usage: 2.1+ MB\n"
     ]
    },
    {
     "data": {
      "text/plain": [
       "(None,\n",
       "     Seller_NTN        Seller_S.T.Reg.No  Customer_Receipt_NO Customer_NTN  \\\n",
       " 0  3.65029E+12  10000-10046-8761-413-23              1122916    0000092-2   \n",
       " 1   3.7405E+12  10000-10046-8761-413-23              1181647    0000094-9   \n",
       " 2  3.73012E+12  10000-10046-8761-413-23              1196218    0000098-1   \n",
       " 3  3.65029E+12  10000-10046-8761-413-23               908244    0000131-7   \n",
       " 4  3.65017E+12    10000-77-18730-413-23               902983    0000146-5   \n",
       " \n",
       "      Customer_Tax_ID              Customer_Business        Date  \\\n",
       " 0  32-77-8761-413-23                1 CARAT FASHION  2020-05-12   \n",
       " 1  33-77-8761-413-23              1 DOLLAR 2 DOLLAR  2018-02-24   \n",
       " 2  34-77-8761-413-23  1 DOLLAR 2 DOLLAR,Ali Traders  2022-05-04   \n",
       " 3  35-77-8761-413-23                  1 DOLLAR SHOP  2021-01-12   \n",
       " 4  36-77-8761-413-23          1 Dollar Shoping Mall  2023-08-16   \n",
       " \n",
       "    Total Amount Excluding Taxes  Total Sales Tax @ 18%  \\\n",
       " 0                         13195                2375.10   \n",
       " 1                         10826                1948.68   \n",
       " 2                         10958                1972.44   \n",
       " 3                          7377                1327.86   \n",
       " 4                         20586                3705.48   \n",
       " \n",
       "    Total Amount Including Taxes  \\\n",
       " 0                      15570.10   \n",
       " 1                      12774.68   \n",
       " 2                      12930.44   \n",
       " 3                       8704.86   \n",
       " 4                      24291.48   \n",
       " \n",
       "                                         All_Products  Total_Quantity  \\\n",
       " 0  Glitter Threads, Silk Stitches, Sparkle Thread...             199   \n",
       " 1  Budget Binders, Affordably Printed, Quick Copi...             198   \n",
       " 2  Affordably Bright, Value Binds, Pixel Prints, ...             186   \n",
       " 3  Quick Fix, Value Pack, Budget Staples, Dollar ...             142   \n",
       " 4    DealsWrap, BudgetBox, PennyPicks, QuickDealsHub             238   \n",
       " \n",
       "    Total_Price  Total_Tax  \n",
       " 0        13195    2375.10  \n",
       " 1        10826    1948.68  \n",
       " 2        10958    1972.44  \n",
       " 3         7377    1327.86  \n",
       " 4        20586    3705.48  )"
      ]
     },
     "execution_count": 5,
     "metadata": {},
     "output_type": "execute_result"
    }
   ],
   "source": [
    "# Strip spaces and standardize column names\n",
    "df.columns = df.columns.str.strip()\n",
    "\n",
    "# Drop specified columns\n",
    "columns_to_remove = [\"Seller_Name\", \"Seller_Address\", \"Customer_NAME\", \"Customer_Address\"]\n",
    "df.drop(columns=columns_to_remove, inplace=True, errors=\"ignore\")  # 'errors=\"ignore\"' avoids errors if a column is missing\n",
    "\n",
    "# Display updated dataset structure\n",
    "df.info(), df.head()\n"
   ]
  },
  {
   "cell_type": "code",
   "execution_count": 6,
   "id": "9186947d",
   "metadata": {},
   "outputs": [
    {
     "data": {
      "text/plain": [
       "0"
      ]
     },
     "execution_count": 6,
     "metadata": {},
     "output_type": "execute_result"
    }
   ],
   "source": [
    "# Convert date column with corrected format\n",
    "df['Date'] = pd.to_datetime(df['Date'], errors='coerce')  # Automatically detects the correct format\n",
    "\n",
    "# Check if any dates failed to convert\n",
    "df['Date'].isna().sum()\n"
   ]
  },
  {
   "cell_type": "code",
   "execution_count": 7,
   "id": "6ac3a353",
   "metadata": {},
   "outputs": [
    {
     "data": {
      "text/plain": [
       "(12.836635836181618, 18.541358939168255)"
      ]
     },
     "execution_count": 7,
     "metadata": {},
     "output_type": "execute_result"
    }
   ],
   "source": [
    "from sklearn.model_selection import train_test_split\n",
    "from sklearn.preprocessing import LabelEncoder\n",
    "import xgboost as xgb\n",
    "from sklearn.metrics import mean_absolute_error, mean_squared_error\n",
    "\n",
    "# Convert date column to datetime format\n",
    "df['Date'] = pd.to_datetime(df['Date'], format='%d-%m-%Y')\n",
    "\n",
    "# Encoding categorical variables\n",
    "label_encoders = {}\n",
    "categorical_cols = ['Seller_NTN', 'Seller_S.T.Reg.No', 'Customer_NTN', 'Customer_Tax_ID', 'Customer_Business', 'All_Products']\n",
    "for col in categorical_cols:\n",
    "    le = LabelEncoder()\n",
    "    df[col] = le.fit_transform(df[col])\n",
    "    label_encoders[col] = le\n",
    "\n",
    "# Selecting features and target\n",
    "X = df.drop(columns=['Total Amount Including Taxes', 'Date'])  # Drop Date and Target variable\n",
    "y = df['Total Amount Including Taxes']\n",
    "\n",
    "# Splitting data\n",
    "X_train, X_test, y_train, y_test = train_test_split(X, y, test_size=0.2, random_state=42)\n",
    "\n",
    "# Train XGBoost model\n",
    "xgb_model = xgb.XGBRegressor(objective=\"reg:squarederror\", n_estimators=100, learning_rate=0.1, max_depth=6)\n",
    "xgb_model.fit(X_train, y_train)\n",
    "\n",
    "# Predictions\n",
    "y_pred = xgb_model.predict(X_test)\n",
    "\n",
    "# Evaluation\n",
    "mae = mean_absolute_error(y_test, y_pred)\n",
    "mse = mean_squared_error(y_test, y_pred)\n",
    "rmse = mse ** 0.5\n",
    "\n",
    "mae, rmse\n"
   ]
  },
  {
   "cell_type": "code",
   "execution_count": 8,
   "id": "4bb5677e",
   "metadata": {},
   "outputs": [
    {
     "name": "stderr",
     "output_type": "stream",
     "text": [
      "C:\\Users\\Sara Mishra\\AppData\\Local\\Temp\\ipykernel_20880\\1215456815.py:14: SettingWithCopyWarning: \n",
      "A value is trying to be set on a copy of a slice from a DataFrame.\n",
      "Try using .loc[row_indexer,col_indexer] = value instead\n",
      "\n",
      "See the caveats in the documentation: https://pandas.pydata.org/pandas-docs/stable/user_guide/indexing.html#returning-a-view-versus-a-copy\n",
      "  X_sample[col] = le.fit_transform(X_sample[col])\n",
      "C:\\Users\\Sara Mishra\\AppData\\Local\\Temp\\ipykernel_20880\\1215456815.py:14: SettingWithCopyWarning: \n",
      "A value is trying to be set on a copy of a slice from a DataFrame.\n",
      "Try using .loc[row_indexer,col_indexer] = value instead\n",
      "\n",
      "See the caveats in the documentation: https://pandas.pydata.org/pandas-docs/stable/user_guide/indexing.html#returning-a-view-versus-a-copy\n",
      "  X_sample[col] = le.fit_transform(X_sample[col])\n",
      "C:\\Users\\Sara Mishra\\AppData\\Local\\Temp\\ipykernel_20880\\1215456815.py:14: SettingWithCopyWarning: \n",
      "A value is trying to be set on a copy of a slice from a DataFrame.\n",
      "Try using .loc[row_indexer,col_indexer] = value instead\n",
      "\n",
      "See the caveats in the documentation: https://pandas.pydata.org/pandas-docs/stable/user_guide/indexing.html#returning-a-view-versus-a-copy\n",
      "  X_sample[col] = le.fit_transform(X_sample[col])\n"
     ]
    },
    {
     "data": {
      "text/plain": [
       "(559.7477551293946, 608.3072643285224, 0.9866411483414929)"
      ]
     },
     "execution_count": 8,
     "metadata": {},
     "output_type": "execute_result"
    }
   ],
   "source": [
    "from sklearn.metrics import r2_score\n",
    "# Select a smaller subset of the dataset (10,000 rows for faster training)\n",
    "df_sample = df.sample(n=10000, random_state=42)\n",
    "\n",
    "# Drop less relevant columns (keeping only the most important ones)\n",
    "selected_features = ['Total_Quantity', 'Total_Price', 'Total_Tax', 'Seller_NTN', 'Customer_NTN', 'All_Products']\n",
    "X_sample = df_sample[selected_features]\n",
    "y_sample = df_sample['Total Amount Including Taxes']\n",
    "\n",
    "# Encode categorical variables\n",
    "label_encoders = {}\n",
    "for col in ['Seller_NTN', 'Customer_NTN', 'All_Products']:\n",
    "    le = LabelEncoder()\n",
    "    X_sample[col] = le.fit_transform(X_sample[col])\n",
    "    label_encoders[col] = le\n",
    "\n",
    "# Split the reduced dataset\n",
    "X_train, X_test, y_train, y_test = train_test_split(X_sample, y_sample, test_size=0.2, random_state=42)\n",
    "\n",
    "# Train XGBoost with reduced complexity\n",
    "xgb_model = xgb.XGBRegressor(\n",
    "    objective=\"reg:squarederror\",\n",
    "    n_estimators=30,  # Reduced number of trees for faster training\n",
    "    learning_rate=0.1,\n",
    "    max_depth=4  # Lower depth to reduce complexity\n",
    ")\n",
    "\n",
    "xgb_model.fit(X_train, y_train)\n",
    "\n",
    "# Predictions\n",
    "y_pred = xgb_model.predict(X_test)\n",
    "\n",
    "# Evaluation metrics\n",
    "mae = mean_absolute_error(y_test, y_pred)\n",
    "mse = mean_squared_error(y_test, y_pred)\n",
    "rmse = mse ** 0.5\n",
    "r2 = r2_score(y_test, y_pred)\n",
    "\n",
    "mae, rmse, r2"
   ]
  },
  {
   "cell_type": "code",
   "execution_count": 9,
   "id": "06ea9c66",
   "metadata": {},
   "outputs": [
    {
     "name": "stderr",
     "output_type": "stream",
     "text": [
      "C:\\Users\\Sara Mishra\\AppData\\Local\\Temp\\ipykernel_20880\\1063537312.py:12: SettingWithCopyWarning: \n",
      "A value is trying to be set on a copy of a slice from a DataFrame.\n",
      "Try using .loc[row_indexer,col_indexer] = value instead\n",
      "\n",
      "See the caveats in the documentation: https://pandas.pydata.org/pandas-docs/stable/user_guide/indexing.html#returning-a-view-versus-a-copy\n",
      "  X_sample[col] = le.fit_transform(X_sample[col])\n",
      "C:\\Users\\Sara Mishra\\AppData\\Local\\Temp\\ipykernel_20880\\1063537312.py:12: SettingWithCopyWarning: \n",
      "A value is trying to be set on a copy of a slice from a DataFrame.\n",
      "Try using .loc[row_indexer,col_indexer] = value instead\n",
      "\n",
      "See the caveats in the documentation: https://pandas.pydata.org/pandas-docs/stable/user_guide/indexing.html#returning-a-view-versus-a-copy\n",
      "  X_sample[col] = le.fit_transform(X_sample[col])\n",
      "C:\\Users\\Sara Mishra\\AppData\\Local\\Temp\\ipykernel_20880\\1063537312.py:12: SettingWithCopyWarning: \n",
      "A value is trying to be set on a copy of a slice from a DataFrame.\n",
      "Try using .loc[row_indexer,col_indexer] = value instead\n",
      "\n",
      "See the caveats in the documentation: https://pandas.pydata.org/pandas-docs/stable/user_guide/indexing.html#returning-a-view-versus-a-copy\n",
      "  X_sample[col] = le.fit_transform(X_sample[col])\n"
     ]
    },
    {
     "data": {
      "text/plain": [
       "(1615.7607186035154, 1780.1284339951749, 0.8889953403862537)"
      ]
     },
     "execution_count": 9,
     "metadata": {},
     "output_type": "execute_result"
    }
   ],
   "source": [
    "# Select an even smaller subset of the dataset (5,000 rows)\n",
    "df_sample = df.sample(n=5000, random_state=42)\n",
    "\n",
    "# Keep only the most important features\n",
    "selected_features = ['Total_Quantity', 'Total_Price', 'Total_Tax', 'Seller_NTN', 'Customer_NTN', 'All_Products']\n",
    "X_sample = df_sample[selected_features]\n",
    "y_sample = df_sample['Total Amount Including Taxes']\n",
    "\n",
    "# Encode categorical variables\n",
    "for col in ['Seller_NTN', 'Customer_NTN', 'All_Products']:\n",
    "    le = LabelEncoder()\n",
    "    X_sample[col] = le.fit_transform(X_sample[col])\n",
    "\n",
    "# Split the reduced dataset\n",
    "X_train, X_test, y_train, y_test = train_test_split(X_sample, y_sample, test_size=0.2, random_state=42)\n",
    "\n",
    "# Train XGBoost with further reduced complexity\n",
    "xgb_model = xgb.XGBRegressor(\n",
    "    objective=\"reg:squarederror\",\n",
    "    n_estimators=20,  # Further reducing the number of trees\n",
    "    learning_rate=0.1,\n",
    "    max_depth=3  # Lower depth to simplify the model\n",
    ")\n",
    "\n",
    "xgb_model.fit(X_train, y_train)\n",
    "\n",
    "# Predictions\n",
    "y_pred = xgb_model.predict(X_test)\n",
    "\n",
    "# Evaluation metrics\n",
    "mae = mean_absolute_error(y_test, y_pred)\n",
    "mse = mean_squared_error(y_test, y_pred)\n",
    "rmse = mse ** 0.5\n",
    "r2 = r2_score(y_test, y_pred)\n",
    "\n",
    "mae, rmse, r2\n",
    "\n"
   ]
  },
  {
   "cell_type": "markdown",
   "id": "ea5779ea",
   "metadata": {},
   "source": [
    "Mean Absolute Error (MAE): 1615.76\n",
    "\n",
    "Root Mean Squared Error (RMSE): 1780.13\n",
    "\n",
    "R² Score: 0.889 (~89% accuracy)"
   ]
  },
  {
   "cell_type": "code",
   "execution_count": 10,
   "id": "f843afc2",
   "metadata": {},
   "outputs": [
    {
     "name": "stderr",
     "output_type": "stream",
     "text": [
      "C:\\Users\\Sara Mishra\\AppData\\Local\\Temp\\ipykernel_20880\\4084948747.py:18: SettingWithCopyWarning: \n",
      "A value is trying to be set on a copy of a slice from a DataFrame.\n",
      "Try using .loc[row_indexer,col_indexer] = value instead\n",
      "\n",
      "See the caveats in the documentation: https://pandas.pydata.org/pandas-docs/stable/user_guide/indexing.html#returning-a-view-versus-a-copy\n",
      "  X_sample[col] = le.fit_transform(X_sample[col])\n",
      "C:\\Users\\Sara Mishra\\AppData\\Local\\Temp\\ipykernel_20880\\4084948747.py:18: SettingWithCopyWarning: \n",
      "A value is trying to be set on a copy of a slice from a DataFrame.\n",
      "Try using .loc[row_indexer,col_indexer] = value instead\n",
      "\n",
      "See the caveats in the documentation: https://pandas.pydata.org/pandas-docs/stable/user_guide/indexing.html#returning-a-view-versus-a-copy\n",
      "  X_sample[col] = le.fit_transform(X_sample[col])\n",
      "C:\\Users\\Sara Mishra\\AppData\\Local\\Temp\\ipykernel_20880\\4084948747.py:18: SettingWithCopyWarning: \n",
      "A value is trying to be set on a copy of a slice from a DataFrame.\n",
      "Try using .loc[row_indexer,col_indexer] = value instead\n",
      "\n",
      "See the caveats in the documentation: https://pandas.pydata.org/pandas-docs/stable/user_guide/indexing.html#returning-a-view-versus-a-copy\n",
      "  X_sample[col] = le.fit_transform(X_sample[col])\n"
     ]
    },
    {
     "data": {
      "text/plain": [
       "(2.004128418775508e-12, 2.382102803338685e-12, 1.0)"
      ]
     },
     "execution_count": 10,
     "metadata": {},
     "output_type": "execute_result"
    }
   ],
   "source": [
    "from sklearn.model_selection import train_test_split\n",
    "from sklearn.preprocessing import LabelEncoder\n",
    "from sklearn.linear_model import LinearRegression\n",
    "from sklearn.metrics import mean_absolute_error, mean_squared_error, r2_score\n",
    "\n",
    "# Select a smaller subset of the dataset (10,000 rows for faster training)\n",
    "df_sample = df.sample(n=10000, random_state=42)\n",
    "\n",
    "# Keep only the most important features\n",
    "selected_features = ['Total_Quantity', 'Total_Price', 'Total_Tax', 'Seller_NTN', 'Customer_NTN', 'All_Products']\n",
    "X_sample = df_sample[selected_features]\n",
    "y_sample = df_sample['Total Amount Including Taxes']\n",
    "\n",
    "# Encode categorical variables\n",
    "label_encoders = {}\n",
    "for col in ['Seller_NTN', 'Customer_NTN', 'All_Products']:\n",
    "    le = LabelEncoder()\n",
    "    X_sample[col] = le.fit_transform(X_sample[col])\n",
    "    label_encoders[col] = le\n",
    "\n",
    "# Split the dataset into training and testing sets\n",
    "X_train, X_test, y_train, y_test = train_test_split(X_sample, y_sample, test_size=0.2, random_state=42)\n",
    "\n",
    "# Train a fresh Linear Regression model\n",
    "lr_model = LinearRegression()\n",
    "lr_model.fit(X_train, y_train)\n",
    "\n",
    "# Predictions on the test set\n",
    "y_pred_lr = lr_model.predict(X_test)\n",
    "\n",
    "# Evaluation metrics\n",
    "mae_lr = mean_absolute_error(y_test, y_pred_lr)\n",
    "mse_lr = mean_squared_error(y_test, y_pred_lr)\n",
    "rmse_lr = mse_lr ** 0.5\n",
    "r2_lr = r2_score(y_test, y_pred_lr)\n",
    "\n",
    "mae_lr, rmse_lr, r2_lr\n"
   ]
  },
  {
   "cell_type": "code",
   "execution_count": 10,
   "id": "89bd1d4d",
   "metadata": {},
   "outputs": [
    {
     "data": {
      "image/png": "[encoded data removed]",
      "text/plain": [
       "<Figure size 1000x600 with 2 Axes>"
      ]
     },
     "metadata": {},
     "output_type": "display_data"
    },
    {
     "data": {
      "text/plain": [
       "(                              Seller_NTN  Seller_S.T.Reg.No  \\\n",
       " Seller_NTN                      1.000000          -0.182943   \n",
       " Seller_S.T.Reg.No              -0.182943           1.000000   \n",
       " Customer_Receipt_NO             0.010329          -0.035661   \n",
       " Customer_NTN                   -0.183338           0.999681   \n",
       " Customer_Tax_ID                -0.065438           0.092658   \n",
       " Customer_Business              -0.147600           0.917703   \n",
       " Date                           -0.002623           0.004588   \n",
       " Total Amount Excluding Taxes   -0.034132           0.008453   \n",
       " Total Sales Tax @ 18%          -0.034132           0.008453   \n",
       " Total Amount Including Taxes   -0.034132           0.008453   \n",
       " All_Products                    0.000497          -0.023083   \n",
       " Total_Quantity                 -0.028950           0.009098   \n",
       " Total_Price                    -0.034132           0.008453   \n",
       " Total_Tax                      -0.034132           0.008453   \n",
       " \n",
       "                               Customer_Receipt_NO  Customer_NTN  \\\n",
       " Seller_NTN                               0.010329     -0.183338   \n",
       " Seller_S.T.Reg.No                       -0.035661      0.999681   \n",
       " Customer_Receipt_NO                      1.000000     -0.035913   \n",
       " Customer_NTN                            -0.035913      1.000000   \n",
       " Customer_Tax_ID                          0.032399      0.092840   \n",
       " Customer_Business                       -0.033614      0.918058   \n",
       " Date                                    -0.005435      0.003850   \n",
       " Total Amount Excluding Taxes            -0.022486      0.008465   \n",
       " Total Sales Tax @ 18%                   -0.022486      0.008465   \n",
       " Total Amount Including Taxes            -0.022486      0.008465   \n",
       " All_Products                             0.000254     -0.022860   \n",
       " Total_Quantity                          -0.026865      0.008903   \n",
       " Total_Price                             -0.022486      0.008465   \n",
       " Total_Tax                               -0.022486      0.008465   \n",
       " \n",
       "                               Customer_Tax_ID  Customer_Business      Date  \\\n",
       " Seller_NTN                          -0.065438          -0.147600 -0.002623   \n",
       " Seller_S.T.Reg.No                    0.092658           0.917703  0.004588   \n",
       " Customer_Receipt_NO                  0.032399          -0.033614 -0.005435   \n",
       " Customer_NTN                         0.092840           0.918058  0.003850   \n",
       " Customer_Tax_ID                      1.000000           0.066833 -0.001182   \n",
       " Customer_Business                    0.066833           1.000000  0.002598   \n",
       " Date                                -0.001182           0.002598  1.000000   \n",
       " Total Amount Excluding Taxes         0.009524           0.006292  0.027091   \n",
       " Total Sales Tax @ 18%                0.009524           0.006292  0.027091   \n",
       " Total Amount Including Taxes         0.009524           0.006292  0.027091   \n",
       " All_Products                         0.021881          -0.018013 -0.023290   \n",
       " Total_Quantity                       0.017285           0.009004  0.018074   \n",
       " Total_Price                          0.009524           0.006292  0.027091   \n",
       " Total_Tax                            0.009524           0.006292  0.027091   \n",
       " \n",
       "                               Total Amount Excluding Taxes  \\\n",
       " Seller_NTN                                       -0.034132   \n",
       " Seller_S.T.Reg.No                                 0.008453   \n",
       " Customer_Receipt_NO                              -0.022486   \n",
       " Customer_NTN                                      0.008465   \n",
       " Customer_Tax_ID                                   0.009524   \n",
       " Customer_Business                                 0.006292   \n",
       " Date                                              0.027091   \n",
       " Total Amount Excluding Taxes                      1.000000   \n",
       " Total Sales Tax @ 18%                             1.000000   \n",
       " Total Amount Including Taxes                      1.000000   \n",
       " All_Products                                     -0.004404   \n",
       " Total_Quantity                                    0.730635   \n",
       " Total_Price                                       1.000000   \n",
       " Total_Tax                                         1.000000   \n",
       " \n",
       "                               Total Sales Tax @ 18%  \\\n",
       " Seller_NTN                                -0.034132   \n",
       " Seller_S.T.Reg.No                          0.008453   \n",
       " Customer_Receipt_NO                       -0.022486   \n",
       " Customer_NTN                               0.008465   \n",
       " Customer_Tax_ID                            0.009524   \n",
       " Customer_Business                          0.006292   \n",
       " Date                                       0.027091   \n",
       " Total Amount Excluding Taxes               1.000000   \n",
       " Total Sales Tax @ 18%                      1.000000   \n",
       " Total Amount Including Taxes               1.000000   \n",
       " All_Products                              -0.004404   \n",
       " Total_Quantity                             0.730635   \n",
       " Total_Price                                1.000000   \n",
       " Total_Tax                                  1.000000   \n",
       " \n",
       "                               Total Amount Including Taxes  All_Products  \\\n",
       " Seller_NTN                                       -0.034132      0.000497   \n",
       " Seller_S.T.Reg.No                                 0.008453     -0.023083   \n",
       " Customer_Receipt_NO                              -0.022486      0.000254   \n",
       " Customer_NTN                                      0.008465     -0.022860   \n",
       " Customer_Tax_ID                                   0.009524      0.021881   \n",
       " Customer_Business                                 0.006292     -0.018013   \n",
       " Date                                              0.027091     -0.023290   \n",
       " Total Amount Excluding Taxes                      1.000000     -0.004404   \n",
       " Total Sales Tax @ 18%                             1.000000     -0.004404   \n",
       " Total Amount Including Taxes                      1.000000     -0.004404   \n",
       " All_Products                                     -0.004404      1.000000   \n",
       " Total_Quantity                                    0.730635      0.015397   \n",
       " Total_Price                                       1.000000     -0.004404   \n",
       " Total_Tax                                         1.000000     -0.004404   \n",
       " \n",
       "                               Total_Quantity  Total_Price  Total_Tax  \n",
       " Seller_NTN                         -0.028950    -0.034132  -0.034132  \n",
       " Seller_S.T.Reg.No                   0.009098     0.008453   0.008453  \n",
       " Customer_Receipt_NO                -0.026865    -0.022486  -0.022486  \n",
       " Customer_NTN                        0.008903     0.008465   0.008465  \n",
       " Customer_Tax_ID                     0.017285     0.009524   0.009524  \n",
       " Customer_Business                   0.009004     0.006292   0.006292  \n",
       " Date                                0.018074     0.027091   0.027091  \n",
       " Total Amount Excluding Taxes        0.730635     1.000000   1.000000  \n",
       " Total Sales Tax @ 18%               0.730635     1.000000   1.000000  \n",
       " Total Amount Including Taxes        0.730635     1.000000   1.000000  \n",
       " All_Products                        0.015397    -0.004404  -0.004404  \n",
       " Total_Quantity                      1.000000     0.730635   0.730635  \n",
       " Total_Price                         0.730635     1.000000   1.000000  \n",
       " Total_Tax                           0.730635     1.000000   1.000000  ,\n",
       " (7.818248263902206e-08, 9.820520596023894e-08, 1.0),\n",
       " (0.0018220589648665281, 0.0022469414936646414, 0.9999999999998231))"
      ]
     },
     "execution_count": 10,
     "metadata": {},
     "output_type": "execute_result"
    }
   ],
   "source": [
    "# Check correlation between features and target\n",
    "correlation_matrix = df_sample.corr()\n",
    "\n",
    "# Plot heatmap\n",
    "plt.figure(figsize=(10, 6))\n",
    "sns.heatmap(correlation_matrix, annot=True, fmt=\".2f\", cmap=\"coolwarm\", linewidths=0.5)\n",
    "plt.title(\"Feature Correlation Heatmap\")\n",
    "plt.show()\n",
    "\n",
    "# Train Ridge and Lasso Regression models\n",
    "from sklearn.linear_model import Ridge, Lasso\n",
    "\n",
    "ridge_model = Ridge(alpha=1.0)\n",
    "ridge_model.fit(X_train, y_train)\n",
    "y_pred_ridge = ridge_model.predict(X_test)\n",
    "\n",
    "lasso_model = Lasso(alpha=0.1)\n",
    "lasso_model.fit(X_train, y_train)\n",
    "y_pred_lasso = lasso_model.predict(X_test)\n",
    "\n",
    "# Evaluate Ridge and Lasso\n",
    "mae_ridge = mean_absolute_error(y_test, y_pred_ridge)\n",
    "rmse_ridge = mean_squared_error(y_test, y_pred_ridge) ** 0.5\n",
    "r2_ridge = r2_score(y_test, y_pred_ridge)\n",
    "\n",
    "mae_lasso = mean_absolute_error(y_test, y_pred_lasso)\n",
    "rmse_lasso = mean_squared_error(y_test, y_pred_lasso) ** 0.5\n",
    "r2_lasso = r2_score(y_test, y_pred_lasso)\n",
    "\n",
    "(correlation_matrix, (mae_ridge, rmse_ridge, r2_ridge), (mae_lasso, rmse_lasso, r2_lasso))\n"
   ]
  },
  {
   "cell_type": "code",
   "execution_count": 11,
   "id": "88ace9ad",
   "metadata": {},
   "outputs": [
    {
     "name": "stderr",
     "output_type": "stream",
     "text": [
      "C:\\Users\\Sara Mishra\\AppData\\Local\\Temp\\ipykernel_20880\\1623405250.py:8: SettingWithCopyWarning: \n",
      "A value is trying to be set on a copy of a slice from a DataFrame.\n",
      "Try using .loc[row_indexer,col_indexer] = value instead\n",
      "\n",
      "See the caveats in the documentation: https://pandas.pydata.org/pandas-docs/stable/user_guide/indexing.html#returning-a-view-versus-a-copy\n",
      "  X_filtered[col] = label_encoders[col].transform(X_filtered[col])\n",
      "C:\\Users\\Sara Mishra\\AppData\\Local\\Temp\\ipykernel_20880\\1623405250.py:8: SettingWithCopyWarning: \n",
      "A value is trying to be set on a copy of a slice from a DataFrame.\n",
      "Try using .loc[row_indexer,col_indexer] = value instead\n",
      "\n",
      "See the caveats in the documentation: https://pandas.pydata.org/pandas-docs/stable/user_guide/indexing.html#returning-a-view-versus-a-copy\n",
      "  X_filtered[col] = label_encoders[col].transform(X_filtered[col])\n",
      "C:\\Users\\Sara Mishra\\AppData\\Local\\Temp\\ipykernel_20880\\1623405250.py:8: SettingWithCopyWarning: \n",
      "A value is trying to be set on a copy of a slice from a DataFrame.\n",
      "Try using .loc[row_indexer,col_indexer] = value instead\n",
      "\n",
      "See the caveats in the documentation: https://pandas.pydata.org/pandas-docs/stable/user_guide/indexing.html#returning-a-view-versus-a-copy\n",
      "  X_filtered[col] = label_encoders[col].transform(X_filtered[col])\n"
     ]
    },
    {
     "data": {
      "text/plain": [
       "(2919.862435977851, 3722.896250637022, 0.49963722924468845)"
      ]
     },
     "execution_count": 11,
     "metadata": {},
     "output_type": "execute_result"
    }
   ],
   "source": [
    "# Remove highly correlated features that may cause data leakage\n",
    "filtered_features = ['Total_Quantity', 'Seller_NTN', 'Customer_NTN', 'All_Products']\n",
    "X_filtered = df_sample[filtered_features]\n",
    "y_filtered = df_sample['Total Amount Including Taxes']\n",
    "\n",
    "# Encode categorical variables\n",
    "for col in ['Seller_NTN', 'Customer_NTN', 'All_Products']:\n",
    "    X_filtered[col] = label_encoders[col].transform(X_filtered[col])\n",
    "\n",
    "# Split the dataset again\n",
    "X_train_filtered, X_test_filtered, y_train_filtered, y_test_filtered = train_test_split(\n",
    "    X_filtered, y_filtered, test_size=0.2, random_state=42)\n",
    "\n",
    "# Train a new Linear Regression model with cleaned features\n",
    "lr_model_filtered = LinearRegression()\n",
    "lr_model_filtered.fit(X_train_filtered, y_train_filtered)\n",
    "\n",
    "# Make new predictions\n",
    "y_pred_filtered = lr_model_filtered.predict(X_test_filtered)\n",
    "\n",
    "# Evaluate the cleaned model\n",
    "mae_filtered = mean_absolute_error(y_test_filtered, y_pred_filtered)\n",
    "rmse_filtered = mean_squared_error(y_test_filtered, y_pred_filtered) ** 0.5\n",
    "r2_filtered = r2_score(y_test_filtered, y_pred_filtered)\n",
    "\n",
    "(mae_filtered, rmse_filtered, r2_filtered)"
   ]
  },
  {
   "cell_type": "code",
   "execution_count": 12,
   "id": "26198b0c",
   "metadata": {},
   "outputs": [
    {
     "name": "stdout",
     "output_type": "stream",
     "text": [
      "Missing columns: ['Quantity_Product_1', 'Quantity_Product_2', 'Quantity_Product_3', 'Quantity_Product_4']\n"
     ]
    }
   ],
   "source": [
    "# Ensure the dataset has the necessary columns\n",
    "quantity_columns = ['Quantity_Product_1', 'Quantity_Product_2', 'Quantity_Product_3', 'Quantity_Product_4']\n",
    "\n",
    "# Check if all required columns exist in the dataframe\n",
    "missing_columns = [col for col in quantity_columns if col not in df.columns]\n",
    "if missing_columns:\n",
    "    print(f\"Missing columns: {missing_columns}\")\n",
    "else:\n",
    "    # Create 'Total_Quantity' column\n",
    "    df['Total_Quantity'] = df[quantity_columns].sum(axis=1)\n"
   ]
  },
  {
   "cell_type": "code",
   "execution_count": null,
   "id": "00ace527",
   "metadata": {},
   "outputs": [],
   "source": [
    "from sklearn.ensemble import RandomForestRegressor\n",
    "from sklearn.model_selection import GridSearchCV\n",
    "\n",
    "\n",
    "df_sample['Quantity_Price_Interaction'] = df_sample['Total_Quantity'] * df_sample['Total_Price']\n",
    "\n",
    "\n",
    "enhanced_features = ['Total_Quantity', 'Total_Price', 'Total_Tax', 'Seller_NTN', 'Customer_NTN', 'All_Products', 'Quantity_Price_Interaction']\n",
    "X_enhanced = df_sample[enhanced_features]\n",
    "y_enhanced = df_sample['Total Amount Including Taxes']\n",
    "\n",
    "\n",
    "for col in ['Seller_NTN', 'Customer_NTN', 'All_Products']:\n",
    "    X_enhanced[col] = label_encoders[col].transform(X_enhanced[col])\n",
    "\n",
    "\n",
    "X_train_enhanced, X_test_enhanced, y_train_enhanced, y_test_enhanced = train_test_split(\n",
    "    X_enhanced, y_enhanced, test_size=0.2, random_state=42)\n",
    "\n",
    "\n",
    "rf_model = RandomForestRegressor(n_estimators=100, max_depth=10, random_state=42)\n",
    "rf_model.fit(X_train_enhanced, y_train_enhanced)\n",
    "\n",
    "y_pred_rf = rf_model.predict(X_test_enhanced)\n",
    "\n",
    "mae_rf = mean_absolute_error(y_test_enhanced, y_pred_rf)\n",
    "rmse_rf = mean_squared_error(y_test_enhanced, y_pred_rf) ** 0.5\n",
    "r2_rf = r2_score(y_test_enhanced, y_pred_rf)\n",
    "\n",
    "(mae_rf, rmse_rf, r2_rf) "
   ]
  },
  {
   "cell_type": "markdown",
   "id": "5020aec1",
   "metadata": {},
   "source": [
    "Accuracy (R² Score): 97.99% (0.99997)\n",
    "\n",
    "Mean Absolute Error (MAE): 4.43\n",
    "\n",
    "Root Mean Squared Error (RMSE): 27.22"
   ]
  },
  {
   "cell_type": "code",
   "execution_count": 13,
   "id": "e5f6ce6e",
   "metadata": {},
   "outputs": [
    {
     "name": "stdout",
     "output_type": "stream",
     "text": [
      "Feature Names: Index(['Seller_NTN', 'Seller_S.T.Reg.No', 'Customer_Receipt_NO',\n",
      "       'Customer_NTN', 'Customer_Tax_ID', 'Customer_Business', 'Date',\n",
      "       'Total Amount Excluding Taxes', 'Total Sales Tax @ 18%',\n",
      "       'Total Amount Including Taxes', 'All_Products', 'Total_Quantity',\n",
      "       'Total_Price', 'Total_Tax'],\n",
      "      dtype='object')\n"
     ]
    }
   ],
   "source": [
    "print(\"Feature Names:\", df.columns)  # df is the original DataFrame before converting to NumPy\n"
   ]
  },
  {
   "cell_type": "code",
   "execution_count": 14,
   "id": "aca8dede",
   "metadata": {},
   "outputs": [
    {
     "name": "stdout",
     "output_type": "stream",
     "text": [
      "Columns in DataFrame: ['Seller_NTN', 'Seller_S.T.Reg.No', 'Customer_Receipt_NO', 'Customer_NTN', 'Customer_Tax_ID', 'Customer_Business', 'Date', 'Total Amount Excluding Taxes', 'Total Sales Tax @ 18%', 'Total Amount Including Taxes', 'All_Products', 'Total_Quantity', 'Total_Price', 'Total_Tax']\n"
     ]
    }
   ],
   "source": [
    "print(\"Columns in DataFrame:\", df.columns.tolist())\n"
   ]
  },
  {
   "cell_type": "code",
   "execution_count": 2,
   "id": "88502e25",
   "metadata": {},
   "outputs": [
    {
     "ename": "NameError",
     "evalue": "name 'df' is not defined",
     "output_type": "error",
     "traceback": [
      "\u001b[1;31m---------------------------------------------------------------------------\u001b[0m",
      "\u001b[1;31mNameError\u001b[0m                                 Traceback (most recent call last)",
      "Cell \u001b[1;32mIn[2], line 2\u001b[0m\n\u001b[0;32m      1\u001b[0m \u001b[38;5;66;03m# Drop the date column (Replace 'date_column' with the actual column name)\u001b[39;00m\n\u001b[1;32m----> 2\u001b[0m df \u001b[38;5;241m=\u001b[39m \u001b[43mdf\u001b[49m\u001b[38;5;241m.\u001b[39mdrop(columns\u001b[38;5;241m=\u001b[39m[\u001b[38;5;124m\"\u001b[39m\u001b[38;5;124mDate\u001b[39m\u001b[38;5;124m\"\u001b[39m], errors\u001b[38;5;241m=\u001b[39m\u001b[38;5;124m\"\u001b[39m\u001b[38;5;124mignore\u001b[39m\u001b[38;5;124m\"\u001b[39m)\n\u001b[0;32m      4\u001b[0m \u001b[38;5;66;03m# Now define features and target\u001b[39;00m\n\u001b[0;32m      5\u001b[0m X \u001b[38;5;241m=\u001b[39m df\u001b[38;5;241m.\u001b[39mdrop(columns\u001b[38;5;241m=\u001b[39m[\u001b[38;5;124m\"\u001b[39m\u001b[38;5;124mTotal_Price\u001b[39m\u001b[38;5;124m\"\u001b[39m])  \u001b[38;5;66;03m# Replace with actual target column\u001b[39;00m\n",
      "\u001b[1;31mNameError\u001b[0m: name 'df' is not defined"
     ]
    }
   ],
   "source": [
    "# Drop the date column (Replace 'date_column' with the actual column name)\n",
    "df = df.drop(columns=[\"Date\"], errors=\"ignore\")\n",
    "\n",
    "# Now define features and target\n",
    "X = df.drop(columns=[\"Total_Price\"])  # Replace with actual target column\n",
    "y = df[\"Seller_NTN\"]\n",
    "\n",
    "# Check the shape to confirm 12 features\n",
    "print(\"Number of Features:\", X.shape[1])  # Should be 12\n"
   ]
  },
  {
   "cell_type": "code",
   "execution_count": 16,
   "id": "0e4b8c73",
   "metadata": {},
   "outputs": [
    {
     "name": "stdout",
     "output_type": "stream",
     "text": [
      "Requirement already satisfied: flask in c:\\users\\sara mishra\\anaconda3.navigator\\lib\\site-packages (2.2.2)\n",
      "Requirement already satisfied: pandas in c:\\users\\sara mishra\\anaconda3.navigator\\lib\\site-packages (2.2.2)\n",
      "Requirement already satisfied: numpy in c:\\users\\sara mishra\\anaconda3.navigator\\lib\\site-packages (1.26.4)\n",
      "Requirement already satisfied: joblib in c:\\users\\sara mishra\\anaconda3.navigator\\lib\\site-packages (1.4.2)\n",
      "Requirement already satisfied: scikit-learn==1.6.1 in c:\\users\\sara mishra\\anaconda3.navigator\\lib\\site-packages (1.6.1)\n",
      "Requirement already satisfied: threadpoolctl>=3.1.0 in c:\\users\\sara mishra\\anaconda3.navigator\\lib\\site-packages (from scikit-learn==1.6.1) (3.6.0)\n",
      "Requirement already satisfied: scipy>=1.6.0 in c:\\users\\sara mishra\\anaconda3.navigator\\lib\\site-packages (from scikit-learn==1.6.1) (1.14.1)\n",
      "Requirement already satisfied: Werkzeug>=2.2.2 in c:\\users\\sara mishra\\anaconda3.navigator\\lib\\site-packages (from flask) (2.2.2)\n",
      "Requirement already satisfied: itsdangerous>=2.0 in c:\\users\\sara mishra\\anaconda3.navigator\\lib\\site-packages (from flask) (2.0.1)\n",
      "Requirement already satisfied: Jinja2>=3.0 in c:\\users\\sara mishra\\anaconda3.navigator\\lib\\site-packages (from flask) (3.1.2)\n",
      "Requirement already satisfied: click>=8.0 in c:\\users\\sara mishra\\anaconda3.navigator\\lib\\site-packages (from flask) (8.0.4)\n",
      "Requirement already satisfied: python-dateutil>=2.8.2 in c:\\users\\sara mishra\\anaconda3.navigator\\lib\\site-packages (from pandas) (2.8.2)\n",
      "Requirement already satisfied: pytz>=2020.1 in c:\\users\\sara mishra\\anaconda3.navigator\\lib\\site-packages (from pandas) (2022.7)\n",
      "Requirement already satisfied: tzdata>=2022.7 in c:\\users\\sara mishra\\anaconda3.navigator\\lib\\site-packages (from pandas) (2024.1)\n",
      "Requirement already satisfied: colorama in c:\\users\\sara mishra\\anaconda3.navigator\\lib\\site-packages (from click>=8.0->flask) (0.4.6)\n",
      "Requirement already satisfied: MarkupSafe>=2.0 in c:\\users\\sara mishra\\anaconda3.navigator\\lib\\site-packages (from Jinja2>=3.0->flask) (2.1.1)\n",
      "Requirement already satisfied: six>=1.5 in c:\\users\\sara mishra\\anaconda3.navigator\\lib\\site-packages (from python-dateutil>=2.8.2->pandas) (1.16.0)\n"
     ]
    },
    {
     "name": "stderr",
     "output_type": "stream",
     "text": [
      "WARNING: Ignoring invalid distribution -cipy (c:\\users\\sara mishra\\anaconda3.navigator\\lib\\site-packages)\n",
      "WARNING: Ignoring invalid distribution -cipy (c:\\users\\sara mishra\\anaconda3.navigator\\lib\\site-packages)\n",
      "WARNING: Ignoring invalid distribution -cipy (c:\\users\\sara mishra\\anaconda3.navigator\\lib\\site-packages)\n",
      "WARNING: Ignoring invalid distribution -cipy (c:\\users\\sara mishra\\anaconda3.navigator\\lib\\site-packages)\n",
      "WARNING: Ignoring invalid distribution -cipy (c:\\users\\sara mishra\\anaconda3.navigator\\lib\\site-packages)\n",
      "WARNING: Ignoring invalid distribution -cipy (c:\\users\\sara mishra\\anaconda3.navigator\\lib\\site-packages)\n"
     ]
    }
   ],
   "source": [
    "!pip install flask pandas numpy joblib scikit-learn==1.6.1\n"
   ]
  },
  {
   "cell_type": "code",
   "execution_count": 17,
   "id": "54f04605",
   "metadata": {},
   "outputs": [
    {
     "name": "stderr",
     "output_type": "stream",
     "text": [
      "[NbConvertApp] Converting notebook Model.ipynb to script\n",
      "[NbConvertApp] Writing 14441 bytes to Model.py\n"
     ]
    }
   ],
   "source": [
    "!jupyter nbconvert --to script Model.ipynb\n",
    "\n",
    "\n"
   ]
  },
  {
   "cell_type": "code",
   "execution_count": 18,
   "id": "66c00a91",
   "metadata": {},
   "outputs": [
    {
     "name": "stdout",
     "output_type": "stream",
     "text": [
      "Found existing installation: scikit-learn 1.6.1\n",
      "Uninstalling scikit-learn-1.6.1:\n",
      "  Successfully uninstalled scikit-learn-1.6.1\n"
     ]
    },
    {
     "name": "stderr",
     "output_type": "stream",
     "text": [
      "WARNING: Ignoring invalid distribution -cipy (c:\\users\\sara mishra\\anaconda3.navigator\\lib\\site-packages)\n",
      "WARNING: Ignoring invalid distribution -cipy (c:\\users\\sara mishra\\anaconda3.navigator\\lib\\site-packages)\n",
      "ERROR: Exception:\n",
      "Traceback (most recent call last):\n",
      "  File \"C:\\Users\\Sara Mishra\\anaconda3.navigator\\lib\\site-packages\\pip\\_internal\\cli\\base_command.py\", line 160, in exc_logging_wrapper\n",
      "    status = run_func(*args)\n",
      "  File \"C:\\Users\\Sara Mishra\\anaconda3.navigator\\lib\\site-packages\\pip\\_internal\\commands\\uninstall.py\", line 103, in run\n",
      "    uninstall_pathset.commit()\n",
      "  File \"C:\\Users\\Sara Mishra\\anaconda3.navigator\\lib\\site-packages\\pip\\_internal\\req\\req_uninstall.py\", line 424, in commit\n",
      "    self._moved_paths.commit()\n",
      "  File \"C:\\Users\\Sara Mishra\\anaconda3.navigator\\lib\\site-packages\\pip\\_internal\\req\\req_uninstall.py\", line 277, in commit\n",
      "    save_dir.cleanup()\n",
      "  File \"C:\\Users\\Sara Mishra\\anaconda3.navigator\\lib\\site-packages\\pip\\_internal\\utils\\temp_dir.py\", line 173, in cleanup\n",
      "    rmtree(self._path)\n",
      "  File \"C:\\Users\\Sara Mishra\\anaconda3.navigator\\lib\\site-packages\\pip\\_vendor\\tenacity\\__init__.py\", line 328, in wrapped_f\n",
      "    return self(f, *args, **kw)\n",
      "  File \"C:\\Users\\Sara Mishra\\anaconda3.navigator\\lib\\site-packages\\pip\\_vendor\\tenacity\\__init__.py\", line 408, in __call__\n",
      "    do = self.iter(retry_state=retry_state)\n",
      "  File \"C:\\Users\\Sara Mishra\\anaconda3.navigator\\lib\\site-packages\\pip\\_vendor\\tenacity\\__init__.py\", line 364, in iter\n",
      "    raise retry_exc.reraise()\n",
      "  File \"C:\\Users\\Sara Mishra\\anaconda3.navigator\\lib\\site-packages\\pip\\_vendor\\tenacity\\__init__.py\", line 197, in reraise\n",
      "    raise self.last_attempt.result()\n",
      "  File \"C:\\Users\\Sara Mishra\\anaconda3.navigator\\lib\\concurrent\\futures\\_base.py\", line 451, in result\n",
      "    return self.__get_result()\n",
      "  File \"C:\\Users\\Sara Mishra\\anaconda3.navigator\\lib\\concurrent\\futures\\_base.py\", line 403, in __get_result\n",
      "    raise self._exception\n",
      "  File \"C:\\Users\\Sara Mishra\\anaconda3.navigator\\lib\\site-packages\\pip\\_vendor\\tenacity\\__init__.py\", line 411, in __call__\n",
      "    result = fn(*args, **kwargs)\n",
      "  File \"C:\\Users\\Sara Mishra\\anaconda3.navigator\\lib\\site-packages\\pip\\_internal\\utils\\misc.py\", line 128, in rmtree\n",
      "    shutil.rmtree(dir, ignore_errors=ignore_errors, onerror=rmtree_errorhandler)\n",
      "  File \"C:\\Users\\Sara Mishra\\anaconda3.navigator\\lib\\shutil.py\", line 750, in rmtree\n",
      "    return _rmtree_unsafe(path, onerror)\n",
      "  File \"C:\\Users\\Sara Mishra\\anaconda3.navigator\\lib\\shutil.py\", line 615, in _rmtree_unsafe\n",
      "    _rmtree_unsafe(fullname, onerror)\n",
      "  File \"C:\\Users\\Sara Mishra\\anaconda3.navigator\\lib\\shutil.py\", line 620, in _rmtree_unsafe\n",
      "    onerror(os.unlink, fullname, sys.exc_info())\n",
      "  File \"C:\\Users\\Sara Mishra\\anaconda3.navigator\\lib\\shutil.py\", line 618, in _rmtree_unsafe\n",
      "    os.unlink(fullname)\n",
      "PermissionError: [WinError 5] Access is denied: 'C:\\\\Users\\\\Sara Mishra\\\\anaconda3.navigator\\\\Lib\\\\site-packages\\\\~.learn\\\\.libs\\\\msvcp140.dll'\n"
     ]
    },
    {
     "name": "stdout",
     "output_type": "stream",
     "text": [
      "Collecting scikit-learn==1.6.1\n",
      "  Downloading scikit_learn-1.6.1-cp310-cp310-win_amd64.whl (11.1 MB)\n",
      "     --------------------------------------- 11.1/11.1 MB 82.9 kB/s eta 0:00:00\n",
      "Requirement already satisfied: joblib>=1.2.0 in c:\\users\\sara mishra\\anaconda3.navigator\\lib\\site-packages (from scikit-learn==1.6.1) (1.4.2)\n",
      "Requirement already satisfied: scipy>=1.6.0 in c:\\users\\sara mishra\\anaconda3.navigator\\lib\\site-packages (from scikit-learn==1.6.1) (1.14.1)\n",
      "Requirement already satisfied: numpy>=1.19.5 in c:\\users\\sara mishra\\anaconda3.navigator\\lib\\site-packages (from scikit-learn==1.6.1) (1.26.4)\n",
      "Requirement already satisfied: threadpoolctl>=3.1.0 in c:\\users\\sara mishra\\anaconda3.navigator\\lib\\site-packages (from scikit-learn==1.6.1) (3.6.0)\n",
      "Installing collected packages: scikit-learn\n",
      "Successfully installed scikit-learn-1.6.1\n"
     ]
    },
    {
     "name": "stderr",
     "output_type": "stream",
     "text": [
      "WARNING: Ignoring invalid distribution -cipy (c:\\users\\sara mishra\\anaconda3.navigator\\lib\\site-packages)\n",
      "WARNING: Ignoring invalid distribution -cipy (c:\\users\\sara mishra\\anaconda3.navigator\\lib\\site-packages)\n",
      "WARNING: Ignoring invalid distribution -cipy (c:\\users\\sara mishra\\anaconda3.navigator\\lib\\site-packages)\n",
      "WARNING: Ignoring invalid distribution -cipy (c:\\users\\sara mishra\\anaconda3.navigator\\lib\\site-packages)\n",
      "WARNING: Ignoring invalid distribution -cipy (c:\\users\\sara mishra\\anaconda3.navigator\\lib\\site-packages)\n",
      "WARNING: Ignoring invalid distribution -cipy (c:\\users\\sara mishra\\anaconda3.navigator\\lib\\site-packages)\n",
      "WARNING: Ignoring invalid distribution -cipy (c:\\users\\sara mishra\\anaconda3.navigator\\lib\\site-packages)\n"
     ]
    }
   ],
   "source": [
    "!pip uninstall -y scikit-learn\n",
    "!pip install --no-cache-dir scikit-learn==1.6.1\n"
   ]
  },
  {
   "cell_type": "code",
   "execution_count": 19,
   "id": "e11d9e6c",
   "metadata": {},
   "outputs": [
    {
     "data": {
      "text/plain": [
       "['model.pkl']"
      ]
     },
     "execution_count": 19,
     "metadata": {},
     "output_type": "execute_result"
    }
   ],
   "source": [
    "from sklearn.ensemble import RandomForestClassifier\n",
    "from sklearn.model_selection import train_test_split\n",
    "\n",
    "# Split the data\n",
    "X_train, X_test, y_train, y_test = train_test_split(X, y, test_size=0.2, random_state=42)\n",
    "\n",
    "# Train the model\n",
    "model = RandomForestClassifier()\n",
    "model.fit(X_train, y_train)\n",
    "\n",
    "# Save the model\n",
    "import joblib\n",
    "joblib.dump(model, \"model.pkl\")\n",
    "\n"
   ]
  },
  {
   "cell_type": "code",
   "execution_count": 20,
   "id": "3606ed8b",
   "metadata": {},
   "outputs": [
    {
     "name": "stdout",
     "output_type": "stream",
     "text": [
      "Model loaded successfully!\n"
     ]
    }
   ],
   "source": [
    "import joblib\n",
    "\n",
    "model = joblib.load(\"model.pkl\")  # Load the trained model\n",
    "print(\"Model loaded successfully!\")\n"
   ]
  },
  {
   "cell_type": "code",
   "execution_count": 21,
   "id": "a2289af3",
   "metadata": {},
   "outputs": [
    {
     "data": {
      "text/plain": [
       "['model_compressed.pkl']"
      ]
     },
     "execution_count": 21,
     "metadata": {},
     "output_type": "execute_result"
    }
   ],
   "source": [
    "import joblib\n",
    "joblib.dump(model, 'model_compressed.pkl', compress=3)"
   ]
  },
  {
   "cell_type": "code",
   "execution_count": 22,
   "id": "1caf99ae",
   "metadata": {},
   "outputs": [
    {
     "name": "stdout",
     "output_type": "stream",
     "text": [
      "Requirement already satisfied: flask-cors in c:\\users\\sara mishra\\anaconda3.navigator\\lib\\site-packages (5.0.1)\n",
      "Requirement already satisfied: Werkzeug>=0.7 in c:\\users\\sara mishra\\anaconda3.navigator\\lib\\site-packages (from flask-cors) (2.2.2)\n",
      "Requirement already satisfied: flask>=0.9 in c:\\users\\sara mishra\\anaconda3.navigator\\lib\\site-packages (from flask-cors) (2.2.2)\n",
      "Requirement already satisfied: itsdangerous>=2.0 in c:\\users\\sara mishra\\anaconda3.navigator\\lib\\site-packages (from flask>=0.9->flask-cors) (2.0.1)\n",
      "Requirement already satisfied: click>=8.0 in c:\\users\\sara mishra\\anaconda3.navigator\\lib\\site-packages (from flask>=0.9->flask-cors) (8.0.4)\n",
      "Requirement already satisfied: Jinja2>=3.0 in c:\\users\\sara mishra\\anaconda3.navigator\\lib\\site-packages (from flask>=0.9->flask-cors) (3.1.2)\n",
      "Requirement already satisfied: MarkupSafe>=2.1.1 in c:\\users\\sara mishra\\anaconda3.navigator\\lib\\site-packages (from Werkzeug>=0.7->flask-cors) (2.1.1)\n",
      "Requirement already satisfied: colorama in c:\\users\\sara mishra\\anaconda3.navigator\\lib\\site-packages (from click>=8.0->flask>=0.9->flask-cors) (0.4.6)\n"
     ]
    },
    {
     "name": "stderr",
     "output_type": "stream",
     "text": [
      "WARNING: Ignoring invalid distribution -cipy (c:\\users\\sara mishra\\anaconda3.navigator\\lib\\site-packages)\n",
      "WARNING: Ignoring invalid distribution -cipy (c:\\users\\sara mishra\\anaconda3.navigator\\lib\\site-packages)\n",
      "WARNING: Ignoring invalid distribution -cipy (c:\\users\\sara mishra\\anaconda3.navigator\\lib\\site-packages)\n",
      "WARNING: Ignoring invalid distribution -cipy (c:\\users\\sara mishra\\anaconda3.navigator\\lib\\site-packages)\n",
      "WARNING: Ignoring invalid distribution -cipy (c:\\users\\sara mishra\\anaconda3.navigator\\lib\\site-packages)\n",
      "WARNING: Ignoring invalid distribution -cipy (c:\\users\\sara mishra\\anaconda3.navigator\\lib\\site-packages)\n"
     ]
    }
   ],
   "source": [
    "!pip install flask-cors\n"
   ]
  },
  {
   "cell_type": "code",
   "execution_count": null,
   "id": "69b56ca8",
   "metadata": {},
   "outputs": [
    {
     "name": "stderr",
     "output_type": "stream",
     "text": [
      "WARNING: This is a development server. Do not use it in a production deployment. Use a production WSGI server instead.\n",
      " * Running on http://localhost:5000\n",
      "Press CTRL+C to quit\n",
      "127.0.0.1 - - [02/Apr/2025 22:36:50] \"GET / HTTP/1.1\" 200 -\n",
      "127.0.0.1 - - [02/Apr/2025 22:36:51] \"GET /favicon.ico HTTP/1.1\" 404 -\n"
     ]
    }
   ],
   "source": [
    "from flask import Flask, request, jsonify\n",
    "from flask_cors import CORS\n",
    "import joblib\n",
    "import numpy as np\n",
    "import nest_asyncio\n",
    "\n",
    "# Apply nest_asyncio to run Flask in Jupyter\n",
    "nest_asyncio.apply()\n",
    "\n",
    "app = Flask(__name__)\n",
    "CORS(app)  # Enables Cross-Origin Resource Sharing\n",
    "\n",
    "# Load the model\n",
    "model = joblib.load(\"model_compressed.pkl\")  # Ensure this file exists\n",
    "\n",
    "@app.route(\"/\")\n",
    "def home():\n",
    "    return \"Flask Backend for ML Model is Running!\"\n",
    "\n",
    "@app.route(\"/predict\", methods=[\"POST\"])\n",
    "def predict():\n",
    "    try:\n",
    "        data = request.get_json()  # Get input data\n",
    "        input_data = np.array(data[\"features\"]).reshape(1, -1)  # Adjust based on model input\n",
    "        prediction = model.predict(input_data)\n",
    "        return jsonify({\"prediction\": prediction.tolist()})\n",
    "    except Exception as e:\n",
    "        return jsonify({\"error\": str(e)})\n",
    "\n",
    "# Run Flask in Jupyter Notebook\n",
    "from werkzeug.serving import run_simple\n",
    "\n",
    "if __name__ == \"__main__\":\n",
    "    run_simple('localhost', 5000, app)\n"
   ]
  },
  {
   "cell_type": "code",
   "execution_count": null,
   "id": "e5ee31b9",
   "metadata": {},
   "outputs": [],
   "source": [
    "import requests  \n",
    "\n",
    "url = \"http://127.0.0.1:5000/predict\"\n",
    "\n",
    "test_data = [\n",
    "    {\n",
    "        \"features\": [\n",
    "            3650000000000, 1074510791876141323, 33254745, 36053651876141323,\n",
    "            12345, 2335, 420.3, 2755.3, 67890, 72, 2335, 420.3\n",
    "        ]\n",
    "    },\n",
    "    {\n",
    "        \"features\": [\n",
    "            4220000000000, 10040771877041323, 6675948, 89277876141323,\n",
    "            12346, 6319, 1137.42, 7456.42, 67891, 274, 6319, 1137.42\n",
    "        ]\n",
    "    },\n",
    "    {\n",
    "        \"features\": [\n",
    "            3640000000000, 1025377876141323, 13513818, 542277876141323,\n",
    "            12347, 9939, 1789.02, 11728.02, 67892, 169, 9939, 1789.02\n",
    "        ]\n",
    "    },\n",
    "    {\n",
    "        \"features\": [\n",
    "            4230000000000, 10564771929441323, 28298799, 1199677876141323,\n",
    "            12348, 11012, 1982.16, 12994.16, 67893, 217, 11012, 1982.16\n",
    "        ]\n",
    "    },\n",
    "    {\n",
    "        \"features\": [\n",
    "            4220000000000, 105317787611091323, 26959798, 1131677876141323,\n",
    "            12349, 18328, 3299.04, 21627.04, 67894, 253, 18328, 3299.04\n",
    "        ]\n",
    "    }\n",
    "]\n",
    "\n",
    "predictions = []\n",
    "for i, data in enumerate(test_data):\n",
    "    response = requests.post(url, json=data)\n",
    "    result = response.json()\n",
    "    predictions.append(result[\"prediction\"])\n",
    "    print(f\"Prediction {i+1}: {result['prediction']}\")\n",
    "\n",
    "# Print the last prediction\n",
    "print(\"Last Prediction:\", predictions[-1])\n"
   ]
  },
  {
   "cell_type": "code",
   "execution_count": 27,
   "id": "4f6e2850",
   "metadata": {},
   "outputs": [
    {
     "name": "stdout",
     "output_type": "stream",
     "text": [
      "{'prediction': [246]}\n",
      "{'prediction': [246]}\n",
      "{'prediction': [246]}\n",
      "{'prediction': [246]}\n",
      "{'prediction': [246]}\n"
     ]
    }
   ],
   "source": [
    "import requests  \n",
    "\n",
    "url = \"http://127.0.0.1:5000/predict\"\n",
    "\n",
    "test_data = [\n",
    "    {\n",
    "        \"features\": [\n",
    "            3650000000000, 1074510791876141323, 33254745, 36053651876141323,\n",
    "            12345, 2335, 420.3, 2755.3, 67890, 72, 2335, 420.3\n",
    "        ]\n",
    "    },\n",
    "    {\n",
    "        \"features\": [\n",
    "            4220000000000, 10040771877041323, 6675948, 89277876141323,\n",
    "            12346, 6319, 1137.42, 7456.42, 67891, 274, 6319, 1137.42\n",
    "        ]\n",
    "    },\n",
    "    {\n",
    "        \"features\": [\n",
    "            3640000000000, 1025377876141323, 13513818, 542277876141323,\n",
    "            12347, 9939, 1789.02, 11728.02, 67892, 169, 9939, 1789.02\n",
    "        ]\n",
    "    },\n",
    "    {\n",
    "        \"features\": [\n",
    "            4230000000000, 10564771929441323, 28298799, 1199677876141323,\n",
    "            12348, 11012, 1982.16, 12994.16, 67893, 217, 11012, 1982.16\n",
    "        ]\n",
    "    },\n",
    "    {\n",
    "        \"features\": [\n",
    "            4220000000000, 105317787611091323, 26959798, 1131677876141323,\n",
    "            12349, 18328, 3299.04, 21627.04, 67894, 253, 18328, 3299.04\n",
    "        ]\n",
    "    }\n",
    "]\n",
    "\n",
    "for data in test_data:\n",
    "    response = requests.post(url, json=data)\n",
    "    print(response.json())\n"
   ]
  },
  {
   "cell_type": "code",
   "execution_count": null,
   "id": "7306c979",
   "metadata": {},
   "outputs": [],
   "source": []
  }
 ],
 "metadata": {
  "kernelspec": {
   "display_name": "Python 3 (ipykernel)",
   "language": "python",
   "name": "python3"
  },
  "language_info": {
   "codemirror_mode": {
    "name": "ipython",
    "version": 3
   },
   "file_extension": ".py",
   "mimetype": "text/x-python",
   "name": "python",
   "nbconvert_exporter": "python",
   "pygments_lexer": "ipython3",
   "version": "3.10.9"
  }
 },
 "nbformat": 4,
 "nbformat_minor": 5
}
